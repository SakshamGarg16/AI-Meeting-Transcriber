{
  "cells": [
    {
      "cell_type": "code",
      "execution_count": 3,
      "metadata": {
        "colab": {
          "base_uri": "https://localhost:8080/"
        },
        "id": "LqaVldrppXlJ",
        "outputId": "dc96a323-0459-4983-9038-de3bad77c9c8"
      },
      "outputs": [
        {
          "name": "stdout",
          "output_type": "stream",
          "text": [
            "Requirement already satisfied: openai-whisper in /usr/local/lib/python3.11/dist-packages (20240930)\n",
            "Requirement already satisfied: numba in /usr/local/lib/python3.11/dist-packages (from openai-whisper) (0.60.0)\n",
            "Requirement already satisfied: numpy in /usr/local/lib/python3.11/dist-packages (from openai-whisper) (1.26.4)\n",
            "Requirement already satisfied: torch in /usr/local/lib/python3.11/dist-packages (from openai-whisper) (2.5.1+cu124)\n",
            "Requirement already satisfied: tqdm in /usr/local/lib/python3.11/dist-packages (from openai-whisper) (4.67.1)\n",
            "Requirement already satisfied: more-itertools in /usr/local/lib/python3.11/dist-packages (from openai-whisper) (10.5.0)\n",
            "Requirement already satisfied: tiktoken in /usr/local/lib/python3.11/dist-packages (from openai-whisper) (0.8.0)\n",
            "Requirement already satisfied: triton>=2.0.0 in /usr/local/lib/python3.11/dist-packages (from openai-whisper) (3.1.0)\n",
            "Requirement already satisfied: filelock in /usr/local/lib/python3.11/dist-packages (from triton>=2.0.0->openai-whisper) (3.17.0)\n",
            "Requirement already satisfied: llvmlite<0.44,>=0.43.0dev0 in /usr/local/lib/python3.11/dist-packages (from numba->openai-whisper) (0.43.0)\n",
            "Requirement already satisfied: regex>=2022.1.18 in /usr/local/lib/python3.11/dist-packages (from tiktoken->openai-whisper) (2024.11.6)\n",
            "Requirement already satisfied: requests>=2.26.0 in /usr/local/lib/python3.11/dist-packages (from tiktoken->openai-whisper) (2.32.3)\n",
            "Requirement already satisfied: typing-extensions>=4.8.0 in /usr/local/lib/python3.11/dist-packages (from torch->openai-whisper) (4.12.2)\n",
            "Requirement already satisfied: networkx in /usr/local/lib/python3.11/dist-packages (from torch->openai-whisper) (3.4.2)\n",
            "Requirement already satisfied: jinja2 in /usr/local/lib/python3.11/dist-packages (from torch->openai-whisper) (3.1.5)\n",
            "Requirement already satisfied: fsspec in /usr/local/lib/python3.11/dist-packages (from torch->openai-whisper) (2024.10.0)\n",
            "Requirement already satisfied: nvidia-cuda-nvrtc-cu12==12.4.127 in /usr/local/lib/python3.11/dist-packages (from torch->openai-whisper) (12.4.127)\n",
            "Requirement already satisfied: nvidia-cuda-runtime-cu12==12.4.127 in /usr/local/lib/python3.11/dist-packages (from torch->openai-whisper) (12.4.127)\n",
            "Requirement already satisfied: nvidia-cuda-cupti-cu12==12.4.127 in /usr/local/lib/python3.11/dist-packages (from torch->openai-whisper) (12.4.127)\n",
            "Requirement already satisfied: nvidia-cudnn-cu12==9.1.0.70 in /usr/local/lib/python3.11/dist-packages (from torch->openai-whisper) (9.1.0.70)\n",
            "Requirement already satisfied: nvidia-cublas-cu12==12.4.5.8 in /usr/local/lib/python3.11/dist-packages (from torch->openai-whisper) (12.4.5.8)\n",
            "Requirement already satisfied: nvidia-cufft-cu12==11.2.1.3 in /usr/local/lib/python3.11/dist-packages (from torch->openai-whisper) (11.2.1.3)\n",
            "Requirement already satisfied: nvidia-curand-cu12==10.3.5.147 in /usr/local/lib/python3.11/dist-packages (from torch->openai-whisper) (10.3.5.147)\n",
            "Requirement already satisfied: nvidia-cusolver-cu12==11.6.1.9 in /usr/local/lib/python3.11/dist-packages (from torch->openai-whisper) (11.6.1.9)\n",
            "Requirement already satisfied: nvidia-cusparse-cu12==12.3.1.170 in /usr/local/lib/python3.11/dist-packages (from torch->openai-whisper) (12.3.1.170)\n",
            "Requirement already satisfied: nvidia-nccl-cu12==2.21.5 in /usr/local/lib/python3.11/dist-packages (from torch->openai-whisper) (2.21.5)\n",
            "Requirement already satisfied: nvidia-nvtx-cu12==12.4.127 in /usr/local/lib/python3.11/dist-packages (from torch->openai-whisper) (12.4.127)\n",
            "Requirement already satisfied: nvidia-nvjitlink-cu12==12.4.127 in /usr/local/lib/python3.11/dist-packages (from torch->openai-whisper) (12.4.127)\n",
            "Requirement already satisfied: sympy==1.13.1 in /usr/local/lib/python3.11/dist-packages (from torch->openai-whisper) (1.13.1)\n",
            "Requirement already satisfied: mpmath<1.4,>=1.1.0 in /usr/local/lib/python3.11/dist-packages (from sympy==1.13.1->torch->openai-whisper) (1.3.0)\n",
            "Requirement already satisfied: charset-normalizer<4,>=2 in /usr/local/lib/python3.11/dist-packages (from requests>=2.26.0->tiktoken->openai-whisper) (3.4.1)\n",
            "Requirement already satisfied: idna<4,>=2.5 in /usr/local/lib/python3.11/dist-packages (from requests>=2.26.0->tiktoken->openai-whisper) (3.10)\n",
            "Requirement already satisfied: urllib3<3,>=1.21.1 in /usr/local/lib/python3.11/dist-packages (from requests>=2.26.0->tiktoken->openai-whisper) (2.3.0)\n",
            "Requirement already satisfied: certifi>=2017.4.17 in /usr/local/lib/python3.11/dist-packages (from requests>=2.26.0->tiktoken->openai-whisper) (2024.12.14)\n",
            "Requirement already satisfied: MarkupSafe>=2.0 in /usr/local/lib/python3.11/dist-packages (from jinja2->torch->openai-whisper) (3.0.2)\n",
            "Do you want to summarize from an audio file or a transcript? Enter 'audio' or 'text': audio\n",
            "Enter the path to your audio file or a direct audio URL: /content/audio.mp3\n"
          ]
        },
        {
          "name": "stderr",
          "output_type": "stream",
          "text": [
            "/usr/local/lib/python3.11/dist-packages/whisper/__init__.py:150: FutureWarning: You are using `torch.load` with `weights_only=False` (the current default value), which uses the default pickle module implicitly. It is possible to construct malicious pickle data which will execute arbitrary code during unpickling (See https://github.com/pytorch/pytorch/blob/main/SECURITY.md#untrusted-models for more details). In a future release, the default value for `weights_only` will be flipped to `True`. This limits the functions that could be executed during unpickling. Arbitrary objects will no longer be allowed to be loaded via this mode unless they are explicitly allowlisted by the user via `torch.serialization.add_safe_globals`. We recommend you start setting `weights_only=True` for any use case where you don't have full control of the loaded file. Please open an issue on GitHub for any issues related to this experimental feature.\n",
            "  checkpoint = torch.load(fp, map_location=device)\n"
          ]
        },
        {
          "name": "stdout",
          "output_type": "stream",
          "text": [
            "Transcript:\n",
            "  Hello everyone, this is Adarthan. Welcome to my YouTube channel. In this video, I would like to explain you about the curriculum for my hands-on machine learning course with Python that I am publishing in YouTube. So I have given the link for my YouTube channel in this document file and you can get the link for this particular file in the description of this video. So first of all, let me tell you about the schedule in which I post the videos in my channel. So in a week, I will be posting three videos. So two videos will be on the course order that we are going to discuss. So those two videos will be published on Monday and Wednesday evening. And there will be one detailed video on a machine learning project and that particular video will be posted on Friday evening. So this is because I want this channel to be useful to people who are just beginning to learn machine learning. So those people can watch these two videos. And there are also can be people who are already familiar with the basic concepts. And those people can watch this project video. So that's the reason behind this. Okay. So and what is the prerequisite for this course? So I would say that the only prerequisite that I would say is that you should have some interest to learn machine learning. Okay. So that QVSity is enough to learn machine learning. And if you are new to programming, that's completely fine too because I also have modules covering the basics of programming in Python. Okay. So now let me explain you the course curriculum. So already we have completed two modules in my channel. So you can check out the playlist in my channel. So this is the curriculum. So the first module is about the machine learning by basics. Okay. So in this module, I will explain you all the basic concepts and very basic terms you need to know in machine learning. So there are probably five videos in this particular module. So first we have discussed about the difference between artificial intelligence, machine learning and deep learning. Then we have discussed about the different types of machine learning. And what is my superveraged learning and its types? Then unsupervised learning and its type and what is my deep learning? Okay. So you can check out this module. After this module, we have completed the second module, which is Python basics for machine learning. Okay. So in this module, the first video is Google Collaboratory basic. So Google Collaboratory is an environment in which you can run Python coach. Okay. So you don't need to install any Python ideas. So you can access Google Collaboratory through your Google Chrome itself. So you can check out that video if you are new to Python. Okay. So then we have discussed about Python basics, Python data types and other operators. You fill statements, loops and functions. So these two model modules are completed. Okay. We have also completed about six machine learning projects. So you can see those project topics here. So first video, we have seen as face recognition system. Then we have this rock versus mine prediction, diabetes prediction, out space prediction, fake news prediction. And this particular loan status prediction video will be published this week. So it will be published on Friday. Okay. So I will be uploading more project videos every Friday. Okay. So we have completed the first two modules, which are machine learning basics and Python basics. And we have also completed six projects and our machine learning project video play list. Okay. So after that, the third module, which will be posted from the next week is this with which is Python library is tutorial for machine learning. So in this module, we will be discussing in detail about various libraries that are important for learning machine learning. Okay. So we will be discussing in detail. So these videos will be completely unsolved. Okay. So we will be doing this in Python. So first we will be discussing in detail about NumPy library. Then we will discuss about various functions in Pandas library. Then map probability, but see bound library. And finally, the important machine learning library, which is your scale on library. Okay. So these are the three modules. And after completing that, we will be learning about data collection and data processing. So in this module, I will be explaining you on where to collect data and how to collect data. And there is a specialized technique for collecting data through APA. So in that video, explain how to input data set through Kaggle APA. Okay. Then we will be discussing how to handle missing values and other data pre-processing techniques. Okay. So after that, there is another pre-processing technique called as data standardization. So these are the topics in our fourth module. Okay. So after that, we will be discussing the mathematics basics for machine learning. So first, we will be discussing in detail about linear algebra, calculus, statistics and probability. Okay. So once we are clear with this mathematical basics of machine learning. So we will learn about machine learning model. So in this model, so we will learn the basics of what is meant by a machine learning model and where it is used and how to select suitable model for a particular problem statement and how to optimize our model and how to evaluate our model. So these concepts and these topics will be covered in the sixth module. Okay. So in the next module, we are going to discuss about all the machine learning algorithms okay. So this is the most requested topic in my channel. Okay. So in this particular module, we will discuss about all the classification models or is the important classification models in machine learning. So first, we will discuss about logistic regression. So in the first video, we will be discussing about the theory and the mathematics basics behind logistic regression. Then we will build a logistic regression model from scratch using Python. Okay. So after completing the logistic regression model, so we will be working on support vector machine model, then decision tree classification, random forest classification and new bias classification, it also K and Eres neighbors. So these are the models we will be discussing under classification model. So you can see here, I have also mentioned logistic regression because logistic regression can also be used for classification. Okay. So these are the models that we will be covering in this classification models. Okay. So in the next module, we will be discussing about regression models in machine learning. So in that, we will be discussing about linear regression basics and building it from scratch through Python and after that, last regression logistic regression for regression problems. So the previous logistic regression, we will be discussing for classification and in this module, we will be discussing it for regression problems. After that, we will be discussing about support vector machine, particularly for regression and decision tree regression and random forest regression. Okay. So it is these two modules are for super is learning. Then we have two modules for unsupervised learning in which we will discuss about the clustering models in machine learning. Okay. So in this, we will discuss about K means clustering both theory and answer on video. And then we will be discussing about IRRK cluster. Okay. So after the clustering module is over in the 10th module, we will discuss about the association models in machine learning. Okay. So there are two main association models. One is apriori and the next one is Eklad. So these are the first 10 modules in our machine learning course. So once we are done with all these modules, so you can watch this machine learning projects. So as I have told you earlier, but I have I have started posting the videos for this particular projects module because it would be useful for a lot of people who are already familiar with machine learning. Okay. So this is our machine learning course curriculum. So once we complete this machine learning course, so we will be learning about deep learning. Okay. So deep learning this is a complete standard learning course. So once we complete this machine learning course, I will be making deep learning course. Okay. So but it's so it's a topic for some other day. Okay. So when I complete this course, one would require, you know, three months or even less than that to complete this course. So I hope this could be a very good learning journey for you. Okay. So from now on, it would take almost three months also for me to complete the course. Okay. So I will be posting videos every week. Okay. So I have already posted about 18 videos. So you can check the videos in my channel. So I have given the link for my channel. Just I will just go to this link and show you. Okay. So if you're already in my channel, you can get to the playlist page. So this is my channel. So here you can go to this playlist section. So here you will see this created playlist of separate modules which we have discussed before. And in this section, you can see this and sound machine learning course with Python. So these are the modules we have completed. Module one, which is machine learning basics. Module two is Python basics. Okay. So this is the machine learning projects that I have told you. So the remaining eight modules will be posted regularly. Okay. So keep track of this video. So you can expect my video to be published on 5 30 pm in the evening on end of the day. Sorry, Monday, Wednesday and Friday. Okay. So you can also check my machine learning project a list. So there are totally six videos so far. And at this video, this low status prediction video will be a product. So a straight in. Okay. So I wish you a very good learning journey in my channel. So please share this with your friends to whom you think this channel could be really helpful. Okay. So subscribe for more videos. Thank you so much.\n"
          ]
        },
        {
          "name": "stderr",
          "output_type": "stream",
          "text": [
            "Device set to use cuda:0\n"
          ]
        },
        {
          "name": "stdout",
          "output_type": "stream",
          "text": [
            "\n",
            "Summary :\n",
            " • Adarthan explains the curriculum for his hands-on machine learning course with Python. In a week, he will be posting three videos. Two videos will be on the course order that we are going to discuss.\n",
            "• The only prerequisite that I would say is that you should have some interest to learn machine learning. So that QVSity is enough to learnmachine learning. And if you are new to programming, that's completely fine too. So now let me explain you the course curriculum.\n",
            "• We have also completed about six machine learning projects. So first video, we have seen as face recognition system. Then we have this rock versus mine predi. So these two model modules are completed.\n",
            "• We have completed the first two modules, which are machine learning basics and Python basics. And we have also completed six projects and our machine learning project video play list. So I will be uploading more project videos every Friday. And this particular loan status prediction video will be published this week.\n",
            "• After completing that, we will be learning about data collection and data processing. So in this module, I will be explaining you on where to collect data. And there is a specialized technique for collecting data through APA. After that, there is another pre-processing technique called as data standardization.\n",
            "• In the first video, we will be discussing about the theory and the mathematics basics behind logistic regression. In the next module, we are going to discuss about all the machine learning algorithms okay. So after completing the logistic. regression model, so we'll be working on support vector machine model, then decision tree classification, random forest classification and new bias cl.\n",
            "• In the next module, we will be discussing about regression models in machine learning. In the previous logistic regression, we'll be discussing for classification. After that, we're going to discuss about support vector machine, particularly for regression.\n",
            "• In the 10th module, we will discuss about the association models in machine learning. So there are two main association models. One is apriori and the next one is Eklad. Once we complete this machine learning course, so we will be learning about deep learning.\n",
            "• I will be posting videos every week. So I have already posted about 18 videos. Once we complete this machine learning course, I will be making deep learning course. So but it's so it's a topic for some other day.\n",
            "• Keep track of this video. You can expect my video to be published on 5 30 pm in the evening on end of the day. Sorry, Monday, Wednesday and Friday. So subscribe for more videos.\n"
          ]
        }
      ],
      "source": [
        "import whisper\n",
        "from transformers import pipeline\n",
        "\n",
        "def transcribe_audio(audio_path):\n",
        "    model = whisper.load_model(\"base\")\n",
        "    result = model.transcribe(audio_path)\n",
        "    return result['text']\n",
        "\n",
        "def summarize_text(text):\n",
        "    summarizer = pipeline(\"summarization\", model=\"facebook/bart-large-cnn\")\n",
        "    max_input_length = 1024\n",
        "    chunks = [text[i:i+max_input_length] for i in range(0, len(text), max_input_length)]\n",
        "\n",
        "    summaries = []\n",
        "    for chunk in chunks:\n",
        "        summary = summarizer(chunk, max_length=130, min_length=30, do_sample=False)\n",
        "        summaries.append(summary[0]['summary_text'])\n",
        "    bullet_point_summary = \"\\n• \".join(summaries)\n",
        "    return \"• \" + bullet_point_summary\n",
        "\n",
        "    return \" \".join(summaries)\n",
        "\n",
        "\n",
        "def meeting_summarizer(input_type, input_data):\n",
        "    if(input_type==\"audio\"):\n",
        "      transcript = transcribe_audio(input_data)\n",
        "      print(\"Transcript:\\n\", transcript)\n",
        "    elif input_type == \"text\":\n",
        "        transcript = input_data\n",
        "        print(\"Transcript provided directly.\")\n",
        "    summary = summarize_text(transcript)\n",
        "    return summary\n",
        "\n"
      ]
    },
    {
      "cell_type": "code",
      "execution_count": null,
      "metadata": {
        "id": "kTyVEAUEphXt"
      },
      "outputs": [],
      "source": [
        "if __name__ == \"__main__\":\n",
        "    input_type = input(\"Do you want to summarize from an audio file or a transcript? Enter 'audio' or 'text': \").strip().lower()\n",
        "\n",
        "    if input_type == \"audio\":\n",
        "        audio_input = input(\"Enter the path to your audio file or a direct audio URL: \").strip()\n",
        "        meeting_summarizer(\"audio\", audio_input)\n",
        "    elif input_type == \"text\":\n",
        "        print(\"Paste your transcript below (press Enter twice to finish):\")\n",
        "        transcript_lines = []\n",
        "\n",
        "        while True:\n",
        "            line = input()\n",
        "            if line == \"\":\n",
        "                break\n",
        "            transcript_lines.append(line)\n",
        "        meeting_transcript = \"\\n\".join(transcript_lines)\n",
        "        meeting_summarizer(\"text\", meeting_transcript)\n",
        "    else:\n",
        "        print(\"Invalid input. Please enter 'audio' or 'text'.\")"
      ]
    }
  ],
  "metadata": {
    "accelerator": "GPU",
    "colab": {
      "gpuType": "T4",
      "provenance": []
    },
    "kernelspec": {
      "display_name": "Python 3",
      "name": "python3"
    },
    "language_info": {
      "name": "python"
    }
  },
  "nbformat": 4,
  "nbformat_minor": 0
}
